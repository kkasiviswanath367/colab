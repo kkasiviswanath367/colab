{
  "nbformat": 4,
  "nbformat_minor": 0,
  "metadata": {
    "colab": {
      "name": "Untitled2.ipynb",
      "provenance": [],
      "authorship_tag": "ABX9TyNlpwkA3gsm4VBIm0x7+dJT"
    },
    "kernelspec": {
      "name": "python3",
      "display_name": "Python 3"
    },
    "language_info": {
      "name": "python"
    }
  },
  "cells": [
    {
      "cell_type": "code",
      "metadata": {
        "id": "UhcsjO-QTheY"
      },
      "source": [
        "import numpy as np"
      ],
      "execution_count": 1,
      "outputs": []
    },
    {
      "cell_type": "code",
      "metadata": {
        "id": "g7rqJhhMTrqh"
      },
      "source": [
        "A_3 = np.array([[[1,2,3,4,5,6]]])"
      ],
      "execution_count": 2,
      "outputs": []
    },
    {
      "cell_type": "code",
      "metadata": {
        "colab": {
          "base_uri": "https://localhost:8080/"
        },
        "id": "-mHyY7_WT430",
        "outputId": "c6222bc9-d112-4c9b-b078-a1ae0c9aecdf"
      },
      "source": [
        "A_3"
      ],
      "execution_count": 3,
      "outputs": [
        {
          "output_type": "execute_result",
          "data": {
            "text/plain": [
              "array([[[1, 2, 3, 4, 5, 6]]])"
            ]
          },
          "metadata": {
            "tags": []
          },
          "execution_count": 3
        }
      ]
    },
    {
      "cell_type": "code",
      "metadata": {
        "colab": {
          "base_uri": "https://localhost:8080/"
        },
        "id": "WIbhIF6dT629",
        "outputId": "940b354c-ace8-4038-d104-dfaa67276df9"
      },
      "source": [
        "A_3.shape"
      ],
      "execution_count": 4,
      "outputs": [
        {
          "output_type": "execute_result",
          "data": {
            "text/plain": [
              "(1, 1, 6)"
            ]
          },
          "metadata": {
            "tags": []
          },
          "execution_count": 4
        }
      ]
    },
    {
      "cell_type": "code",
      "metadata": {
        "id": "BLIA6SUeT-WZ"
      },
      "source": [
        "A_3_1 = np.array([[[1,2,3,4,5,6],[1,2,3,4,5,6]]])"
      ],
      "execution_count": 5,
      "outputs": []
    },
    {
      "cell_type": "code",
      "metadata": {
        "colab": {
          "base_uri": "https://localhost:8080/"
        },
        "id": "Ez9QCiukUKK3",
        "outputId": "3d104a2c-5f49-482a-b01c-37cf75ed642d"
      },
      "source": [
        "A_3_1"
      ],
      "execution_count": 6,
      "outputs": [
        {
          "output_type": "execute_result",
          "data": {
            "text/plain": [
              "array([[[1, 2, 3, 4, 5, 6],\n",
              "        [1, 2, 3, 4, 5, 6]]])"
            ]
          },
          "metadata": {
            "tags": []
          },
          "execution_count": 6
        }
      ]
    },
    {
      "cell_type": "code",
      "metadata": {
        "colab": {
          "base_uri": "https://localhost:8080/"
        },
        "id": "W6gWH6POUMF7",
        "outputId": "39763c5d-e0cb-4bdc-a9a5-2ceab7d54af1"
      },
      "source": [
        "A_3_1.shape"
      ],
      "execution_count": 7,
      "outputs": [
        {
          "output_type": "execute_result",
          "data": {
            "text/plain": [
              "(1, 2, 6)"
            ]
          },
          "metadata": {
            "tags": []
          },
          "execution_count": 7
        }
      ]
    },
    {
      "cell_type": "code",
      "metadata": {
        "id": "Imzb05kVURKu"
      },
      "source": [
        "A_3_2 = np.array([[[1,2,3,4,5,6]],[[1,2,3,4,5,6]]])"
      ],
      "execution_count": 8,
      "outputs": []
    },
    {
      "cell_type": "code",
      "metadata": {
        "colab": {
          "base_uri": "https://localhost:8080/"
        },
        "id": "k85vX-tNUkfl",
        "outputId": "9627dc2f-d4e1-4df0-96c5-c669f09a3d8f"
      },
      "source": [
        "A_3_2"
      ],
      "execution_count": 9,
      "outputs": [
        {
          "output_type": "execute_result",
          "data": {
            "text/plain": [
              "array([[[1, 2, 3, 4, 5, 6]],\n",
              "\n",
              "       [[1, 2, 3, 4, 5, 6]]])"
            ]
          },
          "metadata": {
            "tags": []
          },
          "execution_count": 9
        }
      ]
    },
    {
      "cell_type": "code",
      "metadata": {
        "colab": {
          "base_uri": "https://localhost:8080/"
        },
        "id": "xvotUiCmUmi4",
        "outputId": "dc2f2291-6e85-449f-c9c4-6b8140367965"
      },
      "source": [
        "A_3_2.shape"
      ],
      "execution_count": 10,
      "outputs": [
        {
          "output_type": "execute_result",
          "data": {
            "text/plain": [
              "(2, 1, 6)"
            ]
          },
          "metadata": {
            "tags": []
          },
          "execution_count": 10
        }
      ]
    },
    {
      "cell_type": "code",
      "metadata": {
        "id": "xrLj4YDmUswF"
      },
      "source": [
        "A_3_3 = np.array([[[1,2,3,4,5,6],[10,22,31,14,85,96]],[[111,152,123,144,125,156],[11,52,93,24,45,16]]])"
      ],
      "execution_count": 18,
      "outputs": []
    },
    {
      "cell_type": "code",
      "metadata": {
        "colab": {
          "base_uri": "https://localhost:8080/"
        },
        "id": "eP4qzEjtVFZq",
        "outputId": "d279f12d-36f9-408f-e24e-c24d2d1107ee"
      },
      "source": [
        "A_3_3"
      ],
      "execution_count": 19,
      "outputs": [
        {
          "output_type": "execute_result",
          "data": {
            "text/plain": [
              "array([[[  1,   2,   3,   4,   5,   6],\n",
              "        [ 10,  22,  31,  14,  85,  96]],\n",
              "\n",
              "       [[111, 152, 123, 144, 125, 156],\n",
              "        [ 11,  52,  93,  24,  45,  16]]])"
            ]
          },
          "metadata": {
            "tags": []
          },
          "execution_count": 19
        }
      ]
    },
    {
      "cell_type": "code",
      "metadata": {
        "colab": {
          "base_uri": "https://localhost:8080/"
        },
        "id": "RQDQwJSfVPB2",
        "outputId": "9f4c7595-6f08-435f-fd64-0699d1b610c2"
      },
      "source": [
        "A_3_3.shape"
      ],
      "execution_count": 20,
      "outputs": [
        {
          "output_type": "execute_result",
          "data": {
            "text/plain": [
              "(2, 2, 6)"
            ]
          },
          "metadata": {
            "tags": []
          },
          "execution_count": 20
        }
      ]
    },
    {
      "cell_type": "code",
      "metadata": {
        "id": "T4k1GRzYWwDC"
      },
      "source": [
        "A_3_4 = np.array([[18,24],[12,161],[125,115]])\n"
      ],
      "execution_count": 43,
      "outputs": []
    },
    {
      "cell_type": "code",
      "metadata": {
        "colab": {
          "base_uri": "https://localhost:8080/"
        },
        "id": "Oua8nuJbW063",
        "outputId": "31828deb-4ec0-4311-ac8d-ee363af09524"
      },
      "source": [
        "A_3_4"
      ],
      "execution_count": 44,
      "outputs": [
        {
          "output_type": "execute_result",
          "data": {
            "text/plain": [
              "array([[ 18,  24],\n",
              "       [ 12, 161],\n",
              "       [125, 115]])"
            ]
          },
          "metadata": {
            "tags": []
          },
          "execution_count": 44
        }
      ]
    },
    {
      "cell_type": "code",
      "metadata": {
        "colab": {
          "base_uri": "https://localhost:8080/"
        },
        "id": "46TEnXa_VSm0",
        "outputId": "c4d62d83-4088-466f-93c4-ca84b6a9f31c"
      },
      "source": [
        "np.argmax(A_3_4)"
      ],
      "execution_count": 45,
      "outputs": [
        {
          "output_type": "execute_result",
          "data": {
            "text/plain": [
              "3"
            ]
          },
          "metadata": {
            "tags": []
          },
          "execution_count": 45
        }
      ]
    },
    {
      "cell_type": "code",
      "metadata": {
        "colab": {
          "base_uri": "https://localhost:8080/"
        },
        "id": "lQa_kw3SVbKf",
        "outputId": "ac4e4071-ac10-47a0-dbc2-7397b7a2ad51"
      },
      "source": [
        "np.argmax(A_3_4,axis=0)"
      ],
      "execution_count": 46,
      "outputs": [
        {
          "output_type": "execute_result",
          "data": {
            "text/plain": [
              "array([2, 1])"
            ]
          },
          "metadata": {
            "tags": []
          },
          "execution_count": 46
        }
      ]
    },
    {
      "cell_type": "code",
      "metadata": {
        "colab": {
          "base_uri": "https://localhost:8080/"
        },
        "id": "LnOVpC4DVdKQ",
        "outputId": "5e0979eb-7067-4e00-87fb-dd7747d6263a"
      },
      "source": [
        "np.argmax(A_3_4,axis=1)"
      ],
      "execution_count": 47,
      "outputs": [
        {
          "output_type": "execute_result",
          "data": {
            "text/plain": [
              "array([1, 1, 0])"
            ]
          },
          "metadata": {
            "tags": []
          },
          "execution_count": 47
        }
      ]
    },
    {
      "cell_type": "code",
      "metadata": {
        "colab": {
          "base_uri": "https://localhost:8080/"
        },
        "id": "4GXiKolwWJBa",
        "outputId": "a04d0d06-7015-4987-ff55-bd5a6eb3d0ef"
      },
      "source": [
        "np.argmax(A_3_4,axis=0).sq"
      ],
      "execution_count": 24,
      "outputs": [
        {
          "output_type": "execute_result",
          "data": {
            "text/plain": [
              "array([[1, 1, 1, 1, 1, 1],\n",
              "       [1, 1, 1, 1, 0, 0]])"
            ]
          },
          "metadata": {
            "tags": []
          },
          "execution_count": 24
        }
      ]
    },
    {
      "cell_type": "code",
      "metadata": {
        "id": "_X8BjedrZ467"
      },
      "source": [
        "A_3_5 = np.array([[[1,22,3]]])"
      ],
      "execution_count": 52,
      "outputs": []
    },
    {
      "cell_type": "code",
      "metadata": {
        "colab": {
          "base_uri": "https://localhost:8080/"
        },
        "id": "7bKaAK0HWK-u",
        "outputId": "8e17e895-773b-4ad7-e128-9fa8fe0bd8fb"
      },
      "source": [
        "A_3_4.squeeze()"
      ],
      "execution_count": 48,
      "outputs": [
        {
          "output_type": "execute_result",
          "data": {
            "text/plain": [
              "array([[ 18,  24],\n",
              "       [ 12, 161],\n",
              "       [125, 115]])"
            ]
          },
          "metadata": {
            "tags": []
          },
          "execution_count": 48
        }
      ]
    },
    {
      "cell_type": "code",
      "metadata": {
        "colab": {
          "base_uri": "https://localhost:8080/"
        },
        "id": "LXoiIQ9LZtac",
        "outputId": "48d04143-2cb7-49b8-a6d8-f93d47800fbe"
      },
      "source": [
        "A_3_5.squeeze()"
      ],
      "execution_count": 53,
      "outputs": [
        {
          "output_type": "execute_result",
          "data": {
            "text/plain": [
              "array([ 1, 22,  3])"
            ]
          },
          "metadata": {
            "tags": []
          },
          "execution_count": 53
        }
      ]
    },
    {
      "cell_type": "code",
      "metadata": {
        "colab": {
          "base_uri": "https://localhost:8080/"
        },
        "id": "xrTWhthjaIeN",
        "outputId": "31e5bb80-9e32-47b8-bb98-9c4265cfbf80"
      },
      "source": [
        "int(np.argmax(np.array(A_3_5).squeeze(), axis=0))"
      ],
      "execution_count": 54,
      "outputs": [
        {
          "output_type": "execute_result",
          "data": {
            "text/plain": [
              "1"
            ]
          },
          "metadata": {
            "tags": []
          },
          "execution_count": 54
        }
      ]
    },
    {
      "cell_type": "code",
      "metadata": {
        "colab": {
          "base_uri": "https://localhost:8080/"
        },
        "id": "cRtcD_ojaUyC",
        "outputId": "6b02bd17-ec2d-4f2a-9869-5768f8d141fe"
      },
      "source": [
        "np.argmax(A_3_5, axis=0)"
      ],
      "execution_count": 57,
      "outputs": [
        {
          "output_type": "execute_result",
          "data": {
            "text/plain": [
              "array([[0, 0, 0]])"
            ]
          },
          "metadata": {
            "tags": []
          },
          "execution_count": 57
        }
      ]
    },
    {
      "cell_type": "code",
      "metadata": {
        "colab": {
          "base_uri": "https://localhost:8080/"
        },
        "id": "Jr_bC3TSbLME",
        "outputId": "e2ff84f8-eba7-424c-ee74-1b321318e0fb"
      },
      "source": [
        "A_3_4"
      ],
      "execution_count": 58,
      "outputs": [
        {
          "output_type": "execute_result",
          "data": {
            "text/plain": [
              "array([[ 18,  24],\n",
              "       [ 12, 161],\n",
              "       [125, 115]])"
            ]
          },
          "metadata": {
            "tags": []
          },
          "execution_count": 58
        }
      ]
    },
    {
      "cell_type": "code",
      "metadata": {
        "id": "w_UL2xY6bWLu"
      },
      "source": [
        "a = A_3_4.squeeze()"
      ],
      "execution_count": 62,
      "outputs": []
    },
    {
      "cell_type": "code",
      "metadata": {
        "colab": {
          "base_uri": "https://localhost:8080/"
        },
        "id": "0uXY-ivnbhiW",
        "outputId": "c0afa538-fd63-447c-9b58-a1d2a9a2a9a7"
      },
      "source": [
        "a"
      ],
      "execution_count": 63,
      "outputs": [
        {
          "output_type": "execute_result",
          "data": {
            "text/plain": [
              "array([[ 18,  24],\n",
              "       [ 12, 161],\n",
              "       [125, 115]])"
            ]
          },
          "metadata": {
            "tags": []
          },
          "execution_count": 63
        }
      ]
    },
    {
      "cell_type": "code",
      "metadata": {
        "colab": {
          "base_uri": "https://localhost:8080/"
        },
        "id": "9zPJ9oCTb2Sg",
        "outputId": "ce05861e-5be6-471c-be8f-3e93ec4675e3"
      },
      "source": [
        "A_3_4.size"
      ],
      "execution_count": 69,
      "outputs": [
        {
          "output_type": "execute_result",
          "data": {
            "text/plain": [
              "6"
            ]
          },
          "metadata": {
            "tags": []
          },
          "execution_count": 69
        }
      ]
    },
    {
      "cell_type": "code",
      "metadata": {
        "colab": {
          "base_uri": "https://localhost:8080/"
        },
        "id": "dKYoOYL7b15K",
        "outputId": "7c1a8326-d843-4ce4-f8c5-905a9dbebf06"
      },
      "source": [
        "A_3_5.size"
      ],
      "execution_count": 67,
      "outputs": [
        {
          "output_type": "execute_result",
          "data": {
            "text/plain": [
              "3"
            ]
          },
          "metadata": {
            "tags": []
          },
          "execution_count": 67
        }
      ]
    },
    {
      "cell_type": "code",
      "metadata": {
        "colab": {
          "base_uri": "https://localhost:8080/"
        },
        "id": "KHRPMWaibtR0",
        "outputId": "23aefd90-fc15-4443-ed26-e9ff32ca1730"
      },
      "source": [
        "a.size"
      ],
      "execution_count": 66,
      "outputs": [
        {
          "output_type": "execute_result",
          "data": {
            "text/plain": [
              "6"
            ]
          },
          "metadata": {
            "tags": []
          },
          "execution_count": 66
        }
      ]
    },
    {
      "cell_type": "code",
      "metadata": {
        "colab": {
          "base_uri": "https://localhost:8080/"
        },
        "id": "AHCh3r-vafuD",
        "outputId": "8bd22e09-90c9-47e6-f8dd-fd9d6da72285"
      },
      "source": [
        "np.argmax(np.array(a).squeeze(), axis=0)"
      ],
      "execution_count": 68,
      "outputs": [
        {
          "output_type": "execute_result",
          "data": {
            "text/plain": [
              "array([2, 1])"
            ]
          },
          "metadata": {
            "tags": []
          },
          "execution_count": 68
        }
      ]
    },
    {
      "cell_type": "code",
      "metadata": {
        "colab": {
          "base_uri": "https://localhost:8080/"
        },
        "id": "YcsCOVt2bN9u",
        "outputId": "69420e52-7634-4167-bc26-283c6c5e4ef7"
      },
      "source": [
        "np.argmax(A_3_4, axis=0)"
      ],
      "execution_count": 70,
      "outputs": [
        {
          "output_type": "execute_result",
          "data": {
            "text/plain": [
              "array([2, 1])"
            ]
          },
          "metadata": {
            "tags": []
          },
          "execution_count": 70
        }
      ]
    },
    {
      "cell_type": "code",
      "metadata": {
        "id": "f8hZ_W1ycrkg"
      },
      "source": [
        ""
      ],
      "execution_count": null,
      "outputs": []
    }
  ]
}